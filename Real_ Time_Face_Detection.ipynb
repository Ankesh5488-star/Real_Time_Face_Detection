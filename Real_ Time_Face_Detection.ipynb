{
 "cells": [
  {
   "cell_type": "code",
   "execution_count": 1,
   "id": "4fbe43d2-dbf0-4760-b86f-66b4d5244245",
   "metadata": {},
   "outputs": [
    {
     "name": "stdout",
     "output_type": "stream",
     "text": [
      "Requirement already satisfied: opencv-python in c:\\users\\ankesh kumawat\\appdata\\local\\programs\\python\\python312\\lib\\site-packages (4.8.1.78)\n",
      "Requirement already satisfied: numpy>=1.21.2 in c:\\users\\ankesh kumawat\\appdata\\local\\programs\\python\\python312\\lib\\site-packages (from opencv-python) (1.26.1)\n"
     ]
    },
    {
     "name": "stderr",
     "output_type": "stream",
     "text": [
      "\n",
      "[notice] A new release of pip is available: 23.2.1 -> 23.3\n",
      "[notice] To update, run: python.exe -m pip install --upgrade pip\n"
     ]
    }
   ],
   "source": [
    "!pip install opencv-python"
   ]
  },
  {
   "cell_type": "code",
   "execution_count": null,
   "id": "1c410117-0755-4b99-aed0-7ec42929271d",
   "metadata": {},
   "outputs": [],
   "source": [
    "#import the opencv library working with computer vision\n",
    "import cv2\n",
    "#load the pre-Trained face detect\n",
    "#This line create A instance of the CascadeClassifier class which is use for object detection based on haar cascades\n",
    "#haarcascade_frontalface_default.xml this is pre- trained face detection cascade provide by the opencv2\n",
    "face_cascade=cv2.CascadeClassifier(cv2.data.haarcascades+'haarcascade_frontalface_default.xml')\n",
    "\n",
    "#initialize the video capture object using videocapture class\n",
    "# it open the dafault camera with index 0 this object will be use to capture video frames from the webcam\n",
    "capture=cv2.VideoCapture(0)\n",
    "\n",
    "#set up a loop that will continuously process frames for face detection infinite loop\n",
    "while True:\n",
    "    #start by reading the current frame from the video capture object using the read\n",
    "    #The ret varibale store a boolean value describe the frame was successfully read\n",
    "    #frame varibale contain actual image data of the frame\n",
    "    ret,frame=capture.read()\n",
    "    \n",
    "    #convert the frame to grayscale using the cvtColor function because the Face Detection algorithm operation on grayscale images\n",
    "    #BGR means blue-green-Red formate to grayscale\n",
    "    gray=cv2.cvtColor(frame,cv2.COLOR_BGR2GRAY)\n",
    "\n",
    "    #detect faces in the grayscale frame\n",
    "    #apply the detectMultiScale function to the grayscale frame this function analyzes the frame and attempts to identify faces \n",
    "    #scaleFactor parameter controll the scale which the image is resized for detection\n",
    "    #minNeighbors describe the minimum number of neighbors for a region to be consider as a face\n",
    "    #minsize sets the minimum size of faceregion\n",
    "    faces=face_cascade.detectMultiScale(gray , scaleFactor=1.1 , minNeighbors=1 , minSize=(30,30))\n",
    "\n",
    "    #Draw rectangles around the detected faces\n",
    "    #retrive the coordinates of the detected faces represented as rectangle\n",
    "    for(x,y,w,h) in faces:\n",
    "        #This line draw A rectangle around the detected face on the original frame\n",
    "        #TOP_LEFT corner coordinates of the rectangle is (x,y)\n",
    "        #BOTTOM_RIGHT corner coordinates (x+w,y+h)\n",
    "        # The color of the rectangle (0,255,0)\n",
    "        #Thickness of the rectangle border is 2 pixels\n",
    "        cv2.rectangle(frame,(x,y),(x+w,y+h),(0,255,0),2)\n",
    "\n",
    "        #Display the resulting Frame\n",
    "        #display the resulting frame with the detected faces\n",
    "        cv2.imshow('Face Detection',frame)\n",
    "\n",
    "        #break The loop if 'q' is pressed if press q stoping the face detection process\n",
    "        if cv2.waitKey(1)& 0xFF==ord('q'):\n",
    "            break\n",
    "            \n",
    "\n",
    "#release the video capture object and close the window\n",
    "capture.release()\n",
    "cv2.destroyALLWindow()\n"
   ]
  },
  {
   "cell_type": "code",
   "execution_count": null,
   "id": "fbbe1b10-6d51-4d91-ae75-ae4de788d971",
   "metadata": {},
   "outputs": [],
   "source": []
  }
 ],
 "metadata": {
  "kernelspec": {
   "display_name": "Python 3 (ipykernel)",
   "language": "python",
   "name": "python3"
  },
  "language_info": {
   "codemirror_mode": {
    "name": "ipython",
    "version": 3
   },
   "file_extension": ".py",
   "mimetype": "text/x-python",
   "name": "python",
   "nbconvert_exporter": "python",
   "pygments_lexer": "ipython3",
   "version": "3.12.0"
  }
 },
 "nbformat": 4,
 "nbformat_minor": 5
}
